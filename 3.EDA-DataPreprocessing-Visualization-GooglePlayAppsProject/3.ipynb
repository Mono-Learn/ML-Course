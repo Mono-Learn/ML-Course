{
 "cells": [
  {
   "attachments": {},
   "cell_type": "markdown",
   "metadata": {},
   "source": [
    "<div style=\"text-align:center\">\n",
    "    <img src=\"../files/monolearn-logo.png\" height=\"150px\">\n",
    "    <h1>ML course</h1>\n",
    "    <h3>Session 03: EDA, Data Preprocessing, Visualization, Google play apps project</h3>\n",
    "    <h4><a href=\"https://amzenterprise.ir/\">Ali Momenzadeh</a></h5>\n",
    "</div>"
   ]
  },
  {
   "cell_type": "markdown",
   "metadata": {},
   "source": [
    "## Importing the libraries"
   ]
  },
  {
   "cell_type": "code",
   "execution_count": null,
   "metadata": {},
   "outputs": [],
   "source": [
    "import numpy as np\n",
    "import pandas as pd\n",
    "\n",
    "import matplotlib.pyplot as plt\n",
    "%matplotlib inline\n",
    "#When using the 'inline' backend, your matplotlib graphs will be included in your notebook, next to the code.\n",
    "\n",
    "import seaborn as sns\n",
    "\n",
    "import warnings\n",
    "warnings.filterwarnings('ignore')"
   ]
  },
  {
   "cell_type": "markdown",
   "metadata": {},
   "source": [
    "## Load and Prepare Data"
   ]
  },
  {
   "cell_type": "code",
   "execution_count": null,
   "metadata": {},
   "outputs": [],
   "source": [
    "google_play = pd.read_csv(\"googleplaystore.csv\")"
   ]
  },
  {
   "attachments": {},
   "cell_type": "markdown",
   "metadata": {},
   "source": [
    "## EDA (Exploratory Data Analysis)"
   ]
  },
  {
   "attachments": {},
   "cell_type": "markdown",
   "metadata": {},
   "source": [
    "Exploratory Data Analysis refers to the critical process of performing initial investigations on data so as to discover patterns,to spot anomalies,to test hypothesis and to check assumptions with the help of summary statistics and graphical representations."
   ]
  },
  {
   "cell_type": "code",
   "execution_count": null,
   "metadata": {},
   "outputs": [],
   "source": [
    "google_play.head()"
   ]
  },
  {
   "cell_type": "code",
   "execution_count": null,
   "metadata": {},
   "outputs": [],
   "source": [
    "google_play.info()"
   ]
  },
  {
   "cell_type": "code",
   "execution_count": null,
   "metadata": {},
   "outputs": [],
   "source": [
    "google_play.describe()"
   ]
  },
  {
   "cell_type": "code",
   "execution_count": null,
   "metadata": {},
   "outputs": [],
   "source": [
    "type(google_play)"
   ]
  },
  {
   "cell_type": "markdown",
   "metadata": {},
   "source": [
    "## Data Preprocessing"
   ]
  },
  {
   "cell_type": "code",
   "execution_count": null,
   "metadata": {},
   "outputs": [],
   "source": [
    "google_play"
   ]
  },
  {
   "attachments": {},
   "cell_type": "markdown",
   "metadata": {},
   "source": [
    "#### Convert all ratings to 0-5 scale (replace other values with NaN)"
   ]
  },
  {
   "cell_type": "code",
   "execution_count": null,
   "metadata": {},
   "outputs": [],
   "source": [
    "google_play[\"Rating\"] = [\n",
    "    i if i >= 0 and i <= 5 else np.nan for i in google_play[\"Rating\"]\n",
    "]"
   ]
  },
  {
   "cell_type": "code",
   "execution_count": null,
   "metadata": {},
   "outputs": [],
   "source": [
    "google_play"
   ]
  },
  {
   "attachments": {},
   "cell_type": "markdown",
   "metadata": {},
   "source": [
    "#### Convert all reviews to float (convert M to 1000000)"
   ]
  },
  {
   "cell_type": "code",
   "execution_count": null,
   "metadata": {},
   "outputs": [],
   "source": [
    "# 100M\n",
    "for i in range(len(google_play[\"Reviews\"])):\n",
    "    if str(google_play[\"Reviews\"][i]).find(\"M\") > -1:\n",
    "        google_play[\"Reviews\"][i] = float(google_play[\"Reviews\"][i].replace(\"M\", \"\")) * 1000000 #Convert to million\n",
    "    else:\n",
    "        google_play[\"Reviews\"][i] = float(google_play[\"Reviews\"][i])"
   ]
  },
  {
   "cell_type": "code",
   "execution_count": null,
   "metadata": {},
   "outputs": [],
   "source": [
    "google_play"
   ]
  },
  {
   "attachments": {},
   "cell_type": "markdown",
   "metadata": {},
   "source": [
    "#### Remove unwanted values from sizes"
   ]
  },
  {
   "cell_type": "code",
   "execution_count": null,
   "metadata": {},
   "outputs": [],
   "source": [
    "google_play[\"Size\"] = (\n",
    "    google_play[\"Size\"]\n",
    "    .astype(str)\n",
    "    .replace(\"[Varies with device | Varieswithdevice]\", np.nan, regex=True)\n",
    "    .replace(\"[,+]\", \"\", regex=True)\n",
    ")"
   ]
  },
  {
   "cell_type": "code",
   "execution_count": null,
   "metadata": {},
   "outputs": [],
   "source": [
    "google_play"
   ]
  },
  {
   "attachments": {},
   "cell_type": "markdown",
   "metadata": {},
   "source": [
    "#### Conver all sizes to megabytes (remove \"M\" and \"k\" and convert to float)"
   ]
  },
  {
   "cell_type": "code",
   "execution_count": null,
   "metadata": {},
   "outputs": [],
   "source": [
    "for i in range(len(google_play[\"Size\"])):\n",
    "    if str(google_play[\"Size\"][i]).find(\"k\") > -1:\n",
    "        google_play[\"Size\"][i] = float(google_play[\"Size\"][i].replace(\"k\", \"\")) / 1024 # Convert to megabytes\n",
    "    if str(google_play[\"Size\"][i]).find(\"M\") > -1:\n",
    "        google_play[\"Size\"][i] = float(google_play[\"Size\"][i].replace(\"M\", \"\")) # It's already in megabytes\n",
    "\n",
    "google_play[\"Size\"] = google_play[\"Size\"].astype(float)"
   ]
  },
  {
   "cell_type": "code",
   "execution_count": null,
   "metadata": {},
   "outputs": [],
   "source": [
    "google_play"
   ]
  },
  {
   "attachments": {},
   "cell_type": "markdown",
   "metadata": {},
   "source": [
    "#### Remove unwanted values from installs, remove \",\" , \"+\" and \"Free\""
   ]
  },
  {
   "cell_type": "code",
   "execution_count": null,
   "metadata": {},
   "outputs": [],
   "source": [
    "google_play[\"Installs\"] = (\n",
    "    google_play[\"Installs\"]\n",
    "    .astype(str)\n",
    "    .replace(\"[,+]\", \"\", regex=True)\n",
    "    .replace(\"Free\", np.nan)\n",
    "    .astype(float)\n",
    ")"
   ]
  },
  {
   "cell_type": "code",
   "execution_count": null,
   "metadata": {},
   "outputs": [],
   "source": [
    "google_play"
   ]
  },
  {
   "attachments": {},
   "cell_type": "markdown",
   "metadata": {},
   "source": [
    "#### Change type 0 to NAN"
   ]
  },
  {
   "cell_type": "code",
   "execution_count": null,
   "metadata": {},
   "outputs": [],
   "source": [
    "google_play[\"Type\"] = google_play[\"Type\"].replace(\"0\", np.nan)"
   ]
  },
  {
   "cell_type": "code",
   "execution_count": null,
   "metadata": {},
   "outputs": [],
   "source": [
    "google_play"
   ]
  },
  {
   "attachments": {},
   "cell_type": "markdown",
   "metadata": {},
   "source": [
    "#### Remove $ sign and unwanted characters from the prices"
   ]
  },
  {
   "cell_type": "code",
   "execution_count": null,
   "metadata": {},
   "outputs": [],
   "source": [
    "google_play[\"Price\"] = google_play[\"Price\"].astype(str).replace(\"[$]\", \"\",regex=True).replace(\"[A-Za-z]\", np.nan, regex=True).astype(float)"
   ]
  },
  {
   "cell_type": "code",
   "execution_count": null,
   "metadata": {},
   "outputs": [],
   "source": [
    "google_play"
   ]
  },
  {
   "attachments": {},
   "cell_type": "markdown",
   "metadata": {},
   "source": [
    "#### Create 3 new columns to seperate each part of the last update dates"
   ]
  },
  {
   "cell_type": "code",
   "execution_count": null,
   "metadata": {},
   "outputs": [],
   "source": [
    "years = []\n",
    "months = []\n",
    "days = []\n",
    "for i in range(len(google_play[\"Last Updated\"])):\n",
    "    date = pd.to_datetime(google_play[\"Last Updated\"][i],errors='coerce')\n",
    "    years.append(date.year)\n",
    "    months.append(date.month)\n",
    "    days.append(date.day)\n",
    " \n",
    "google_play = google_play.drop([\"Last Updated\"], axis=1)\n",
    "google_play[\"Last Updated Year\"] = years\n",
    "google_play[\"Last Updated Month\"] = months\n",
    "google_play[\"Last Updated Day\"] = days"
   ]
  },
  {
   "cell_type": "code",
   "execution_count": null,
   "metadata": {},
   "outputs": [],
   "source": [
    "google_play"
   ]
  },
  {
   "attachments": {},
   "cell_type": "markdown",
   "metadata": {},
   "source": [
    "#### Remove unwanted values from Andriod Ver and convert all values to float (The format is *.*)"
   ]
  },
  {
   "cell_type": "code",
   "execution_count": null,
   "metadata": {},
   "outputs": [],
   "source": [
    "google_play[\"Android Ver\"] = (\n",
    "    google_play[\"Android Ver\"]\n",
    "    .replace(\"and up\", \"\", regex=True)\n",
    "    .replace(\"Varies with device\", np.nan)\n",
    ")"
   ]
  },
  {
   "cell_type": "code",
   "execution_count": null,
   "metadata": {},
   "outputs": [],
   "source": [
    "google_play"
   ]
  },
  {
   "attachments": {},
   "cell_type": "markdown",
   "metadata": {},
   "source": [
    "#### This formation is done only for better demonstration of data (it's not necessary)"
   ]
  },
  {
   "cell_type": "code",
   "execution_count": null,
   "metadata": {},
   "outputs": [],
   "source": [
    "google_play[\"Android Ver\"] = list(\n",
    "    map(lambda x: x if str(x) == \"nan\" else str(x)[0:3], google_play[\"Android Ver\"]) # Only get the first 3 digits (to convert numbers to *.* format)\n",
    ")"
   ]
  },
  {
   "cell_type": "code",
   "execution_count": null,
   "metadata": {},
   "outputs": [],
   "source": [
    "google_play"
   ]
  },
  {
   "attachments": {},
   "cell_type": "markdown",
   "metadata": {},
   "source": [
    "## Storytelling - Visualization"
   ]
  },
  {
   "attachments": {},
   "cell_type": "markdown",
   "metadata": {},
   "source": [
    "#### Count of each type"
   ]
  },
  {
   "cell_type": "code",
   "execution_count": null,
   "metadata": {},
   "outputs": [],
   "source": [
    "types_countplot = sns.countplot(x=\"Type\", data=google_play)\n",
    "types_countplot.set_xticklabels(types_countplot.get_xticklabels(),rotation=90)"
   ]
  },
  {
   "attachments": {},
   "cell_type": "markdown",
   "metadata": {},
   "source": [
    "#### Count of each rating separated by type"
   ]
  },
  {
   "cell_type": "code",
   "execution_count": null,
   "metadata": {},
   "outputs": [],
   "source": [
    "rating_type_catplot = sns.catplot(x=\"Rating\",hue='Type', kind=\"count\",palette=sns.color_palette(\"Set2\"), data=google_play, height=6, aspect=4)"
   ]
  },
  {
   "attachments": {},
   "cell_type": "markdown",
   "metadata": {},
   "source": [
    "#### Count of each andriod version"
   ]
  },
  {
   "cell_type": "code",
   "execution_count": null,
   "metadata": {},
   "outputs": [],
   "source": [
    "andriodVers_countplot = sns.countplot(x = sorted(google_play[\"Android Ver\"].dropna().values))\n",
    "andriodVers_countplot.set_xticklabels(andriodVers_countplot.get_xticklabels(),rotation=90)\n",
    "andriodVers_countplot.figure.set_size_inches(10,6)"
   ]
  },
  {
   "attachments": {},
   "cell_type": "markdown",
   "metadata": {},
   "source": [
    "#### Count of each content rating"
   ]
  },
  {
   "cell_type": "code",
   "execution_count": null,
   "metadata": {},
   "outputs": [],
   "source": [
    "contentRating_countplot = sns.countplot(x=\"Content Rating\",data=google_play)\n",
    "contentRating_countplot.set_xticklabels(contentRating_countplot.get_xticklabels(),rotation=90)\n",
    "contentRating_countplot.figure.set_size_inches(10,6)"
   ]
  },
  {
   "attachments": {},
   "cell_type": "markdown",
   "metadata": {},
   "source": [
    "#### Relativity of rating and size"
   ]
  },
  {
   "cell_type": "code",
   "execution_count": null,
   "metadata": {},
   "outputs": [],
   "source": [
    "random_sample = google_play.sample(n=1000)\n",
    "rating_size_plot = sns.regplot(x=\"Rating\", y=\"Size\", data=random_sample)"
   ]
  },
  {
   "attachments": {},
   "cell_type": "markdown",
   "metadata": {},
   "source": [
    "#### Top ten most popular cateogires based on the number of installs"
   ]
  },
  {
   "cell_type": "code",
   "execution_count": null,
   "metadata": {},
   "outputs": [],
   "source": [
    "result = google_play.groupby(\"Category\")[\"Installs\"].agg([\"count\",\"mean\"]).sort_values(by=\"mean\", ascending=False).head(10)\n",
    "sns.heatmap(result, annot=True)"
   ]
  },
  {
   "attachments": {},
   "cell_type": "markdown",
   "metadata": {},
   "source": [
    "#### Top ten most popular genres based on the number of installs"
   ]
  },
  {
   "cell_type": "code",
   "execution_count": null,
   "metadata": {},
   "outputs": [],
   "source": [
    "result = google_play.groupby(\"Genres\")[\"Installs\"].agg([\"count\",\"mean\"]).sort_values(by=\"mean\", ascending=False).head(10)\n",
    "sns.heatmap(result, annot=True)"
   ]
  },
  {
   "attachments": {},
   "cell_type": "markdown",
   "metadata": {},
   "source": [
    "#### Relativity of rating and reviews"
   ]
  },
  {
   "cell_type": "code",
   "execution_count": null,
   "metadata": {},
   "outputs": [],
   "source": [
    "sns.relplot(x=\"Rating\", y=\"Reviews\", hue=\"Type\", data=google_play,height=5, aspect=2)"
   ]
  },
  {
   "attachments": {},
   "cell_type": "markdown",
   "metadata": {},
   "source": [
    "#### Top largest and smalles (by size) installed apps (Relativity between mean size and count of installs)"
   ]
  },
  {
   "cell_type": "code",
   "execution_count": null,
   "metadata": {},
   "outputs": [],
   "source": [
    "top = google_play.groupby(\"Installs\")[\"Size\"].agg([\"count\",\"mean\"]).sort_values(by=\"mean\", ascending=False).head(15)\n",
    "lowest = google_play.groupby(\"Installs\")[\"Size\"].agg([\"count\",\"mean\"]).sort_values(by=\"mean\", ascending=True).head(15)\n",
    "top[\"Size_Type\"] = \"Top\"\n",
    "lowest[\"Size_Type\"] = \"Lowest\"\n",
    "result = pd.concat([top, lowest])\n",
    "\n",
    "g = sns.FacetGrid(result, col=\"Size_Type\")\n",
    "g.map(sns.scatterplot, \"count\",\"mean\")"
   ]
  },
  {
   "attachments": {},
   "cell_type": "markdown",
   "metadata": {},
   "source": [
    "#### Relativity between Last update date and rating filtered by type"
   ]
  },
  {
   "cell_type": "code",
   "execution_count": null,
   "metadata": {},
   "outputs": [],
   "source": [
    "sns.pointplot(x=\"Last Updated Year\", y=\"Rating\",hue=\"Type\", data=google_play)"
   ]
  },
  {
   "attachments": {},
   "cell_type": "markdown",
   "metadata": {},
   "source": [
    "####  Top 10 apps by rating"
   ]
  },
  {
   "cell_type": "code",
   "execution_count": null,
   "metadata": {},
   "outputs": [],
   "source": [
    "google_play.sort_values(by=\"Rating\", ascending=False).head(10)"
   ]
  },
  {
   "attachments": {},
   "cell_type": "markdown",
   "metadata": {},
   "source": [
    "#### Top 10 most expensive apps"
   ]
  },
  {
   "cell_type": "code",
   "execution_count": null,
   "metadata": {},
   "outputs": [],
   "source": [
    "google_play.sort_values(by=\"Price\", ascending=False).head(10)"
   ]
  },
  {
   "attachments": {},
   "cell_type": "markdown",
   "metadata": {},
   "source": [
    "#### Top 10 genres by rating mean"
   ]
  },
  {
   "cell_type": "code",
   "execution_count": null,
   "metadata": {},
   "outputs": [],
   "source": [
    "google_play.groupby(\"Genres\").agg({\"Rating\": \"mean\"}).sort_values(by=\"Rating\", ascending=False).head(10)"
   ]
  },
  {
   "attachments": {},
   "cell_type": "markdown",
   "metadata": {},
   "source": [
    "#### Top 10 free apps with more than 1000 installs"
   ]
  },
  {
   "cell_type": "code",
   "execution_count": null,
   "metadata": {},
   "outputs": [],
   "source": [
    "top_install_free_apps = google_play.query(\"Type == 'Free' and Installs > 1000\")\n",
    "top_install_free_apps.sort_values(by=\"Installs\", ascending=False).head(10)"
   ]
  },
  {
   "attachments": {},
   "cell_type": "markdown",
   "metadata": {},
   "source": [
    "#### Top apps with more than 1M reviews and more than 4 rating"
   ]
  },
  {
   "cell_type": "code",
   "execution_count": null,
   "metadata": {},
   "outputs": [],
   "source": [
    "google_play.query(\"Reviews > 1000000 and Rating > 4\")"
   ]
  },
  {
   "cell_type": "code",
   "execution_count": null,
   "metadata": {},
   "outputs": [],
   "source": [
    "correlation = google_play.corr()\n",
    "heatmapcorr = sns.heatmap(correlation, annot=True)"
   ]
  }
 ],
 "metadata": {
  "kernelspec": {
   "display_name": "Python 3",
   "language": "python",
   "name": "python3"
  },
  "language_info": {
   "codemirror_mode": {
    "name": "ipython",
    "version": 3
   },
   "file_extension": ".py",
   "mimetype": "text/x-python",
   "name": "python",
   "nbconvert_exporter": "python",
   "pygments_lexer": "ipython3",
   "version": "3.10.7 (tags/v3.10.7:6cc6b13, Sep  5 2022, 14:08:36) [MSC v.1933 64 bit (AMD64)]"
  },
  "vscode": {
   "interpreter": {
    "hash": "369f2c481f4da34e4445cda3fffd2e751bd1c4d706f27375911949ba6bb62e1c"
   }
  }
 },
 "nbformat": 4,
 "nbformat_minor": 2
}
