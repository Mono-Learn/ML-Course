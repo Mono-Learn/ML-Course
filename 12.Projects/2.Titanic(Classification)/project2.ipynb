{
 "cells": [
  {
   "attachments": {},
   "cell_type": "markdown",
   "metadata": {},
   "source": [
    "<div style=\"text-align:center\">\n",
    "    <img src=\"../../files/monolearn-logo.png\" height=\"150px\">\n",
    "    <h1>ML course</h1>\n",
    "    <h3>Session 12: Titanic project</h3>\n",
    "    <h4><a href=\"https://amzenterprise.ir/\">Ali Momenzadeh</a></h5>\n",
    "</div>"
   ]
  },
  {
   "attachments": {},
   "cell_type": "markdown",
   "metadata": {},
   "source": [
    "#### Import libraries"
   ]
  },
  {
   "cell_type": "code",
   "execution_count": null,
   "metadata": {},
   "outputs": [],
   "source": [
    "# pip install xgboost"
   ]
  },
  {
   "cell_type": "code",
   "execution_count": null,
   "metadata": {},
   "outputs": [],
   "source": [
    "import numpy as np\n",
    "import pandas as pd\n",
    "import matplotlib.pyplot as plt\n",
    "%matplotlib inline\n",
    "#When using the 'inline' backend, your matplotlib graphs will be included in your notebook, next to the code.\n",
    "\n",
    "import seaborn as sns\n",
    "\n",
    "import warnings\n",
    "warnings.filterwarnings('ignore')"
   ]
  },
  {
   "attachments": {},
   "cell_type": "markdown",
   "metadata": {},
   "source": [
    "#### Load and prepare data"
   ]
  },
  {
   "cell_type": "code",
   "execution_count": null,
   "metadata": {},
   "outputs": [],
   "source": [
    "train = pd.read_csv(\"train.csv\")\n",
    "test = pd.read_csv(\"test.csv\")"
   ]
  },
  {
   "attachments": {},
   "cell_type": "markdown",
   "metadata": {},
   "source": [
    "#### EDA"
   ]
  },
  {
   "cell_type": "code",
   "execution_count": null,
   "metadata": {},
   "outputs": [],
   "source": [
    "train.head()"
   ]
  },
  {
   "cell_type": "code",
   "execution_count": null,
   "metadata": {},
   "outputs": [],
   "source": [
    "test.head()"
   ]
  },
  {
   "cell_type": "code",
   "execution_count": null,
   "metadata": {},
   "outputs": [],
   "source": [
    "train.info()"
   ]
  },
  {
   "cell_type": "code",
   "execution_count": null,
   "metadata": {},
   "outputs": [],
   "source": [
    "test.info()"
   ]
  },
  {
   "cell_type": "code",
   "execution_count": null,
   "metadata": {},
   "outputs": [],
   "source": [
    "train.describe()"
   ]
  },
  {
   "cell_type": "code",
   "execution_count": null,
   "metadata": {},
   "outputs": [],
   "source": [
    "test.describe()"
   ]
  },
  {
   "attachments": {},
   "cell_type": "markdown",
   "metadata": {},
   "source": [
    "#### Data Preprocessing"
   ]
  },
  {
   "cell_type": "code",
   "execution_count": null,
   "metadata": {},
   "outputs": [],
   "source": [
    "train.isnull().sum()"
   ]
  },
  {
   "cell_type": "code",
   "execution_count": null,
   "metadata": {},
   "outputs": [],
   "source": [
    "test.isnull().sum()"
   ]
  },
  {
   "cell_type": "code",
   "execution_count": null,
   "metadata": {},
   "outputs": [],
   "source": [
    "# Fill null values\n",
    "train.fillna({\"Age\": train[\"Age\"].median()}, inplace=True)\n",
    "train.fillna({\"Cabin\": train[\"Cabin\"].mode()[0]}, inplace=True)\n",
    "train.fillna({\"Embarked\": train[\"Embarked\"].mode()[0]}, inplace=True)\n",
    "\n",
    "test.fillna({\"Age\": test[\"Age\"].median()}, inplace=True)\n",
    "test.fillna({\"Fare\": test[\"Fare\"].median()}, inplace=True)\n",
    "test.fillna({\"Cabin\": test[\"Cabin\"].mode()[0]}, inplace=True)"
   ]
  },
  {
   "cell_type": "code",
   "execution_count": null,
   "metadata": {},
   "outputs": [],
   "source": [
    "train.info()"
   ]
  },
  {
   "cell_type": "code",
   "execution_count": null,
   "metadata": {},
   "outputs": [],
   "source": [
    "test.info()"
   ]
  },
  {
   "cell_type": "code",
   "execution_count": null,
   "metadata": {},
   "outputs": [],
   "source": [
    "train.isnull().sum()"
   ]
  },
  {
   "cell_type": "code",
   "execution_count": null,
   "metadata": {},
   "outputs": [],
   "source": [
    "test.isnull().sum()"
   ]
  },
  {
   "attachments": {},
   "cell_type": "markdown",
   "metadata": {},
   "source": [
    "#### Encoding"
   ]
  },
  {
   "cell_type": "code",
   "execution_count": null,
   "metadata": {},
   "outputs": [],
   "source": [
    "from sklearn.preprocessing import LabelEncoder\n",
    "\n",
    "train[\"Sex\"] = LabelEncoder().fit_transform(train[\"Sex\"])\n",
    "train = pd.get_dummies(train, columns=[\"Pclass\", \"Embarked\"])\n",
    "\n",
    "test[\"Sex\"] = LabelEncoder().fit_transform(test[\"Sex\"])\n",
    "test = pd.get_dummies(test, columns=[\"Pclass\", \"Embarked\"])"
   ]
  },
  {
   "cell_type": "code",
   "execution_count": null,
   "metadata": {},
   "outputs": [],
   "source": [
    "train[\"Family\"] = train[\"SibSp\"] + train[\"Parch\"]\n",
    "test[\"Family\"] = test[\"SibSp\"] + test[\"Parch\"]"
   ]
  },
  {
   "attachments": {},
   "cell_type": "markdown",
   "metadata": {},
   "source": [
    "Remove unnecessary columns"
   ]
  },
  {
   "cell_type": "code",
   "execution_count": null,
   "metadata": {},
   "outputs": [],
   "source": [
    "train.drop(\n",
    "    [\"PassengerId\", \"Name\", \"Ticket\", \"Cabin\", \"SibSp\", \"Parch\"], axis=1, inplace=True\n",
    ")\n",
    "\n",
    "test.drop(\n",
    "    [\"PassengerId\", \"Name\", \"Ticket\", \"Cabin\", \"SibSp\", \"Parch\"], axis=1, inplace=True\n",
    ")"
   ]
  },
  {
   "cell_type": "code",
   "execution_count": null,
   "metadata": {},
   "outputs": [],
   "source": [
    "train.info()"
   ]
  },
  {
   "cell_type": "code",
   "execution_count": null,
   "metadata": {},
   "outputs": [],
   "source": [
    "test.info()"
   ]
  },
  {
   "attachments": {},
   "cell_type": "markdown",
   "metadata": {},
   "source": [
    "#### Strorytelling - Visualization"
   ]
  },
  {
   "cell_type": "code",
   "execution_count": null,
   "metadata": {},
   "outputs": [],
   "source": [
    "corr = train.corr()\n",
    "corr.shape"
   ]
  },
  {
   "cell_type": "code",
   "execution_count": null,
   "metadata": {},
   "outputs": [],
   "source": [
    "plt.figure(figsize=(12, 12))\n",
    "sns.heatmap(\n",
    "    corr,\n",
    "    cbar=True,\n",
    "    square=True,\n",
    "    fmt=\".1f\",\n",
    "    annot=True,\n",
    "    annot_kws={\"size\": 15},\n",
    "    cmap=\"coolwarm\",\n",
    ")"
   ]
  },
  {
   "attachments": {},
   "cell_type": "markdown",
   "metadata": {},
   "source": [
    "#### Train and test (Classification)"
   ]
  },
  {
   "cell_type": "code",
   "execution_count": null,
   "metadata": {},
   "outputs": [],
   "source": [
    "from sklearn.model_selection import train_test_split\n",
    "from sklearn.model_selection import cross_val_score\n",
    "from sklearn.metrics import confusion_matrix\n",
    "from sklearn import metrics"
   ]
  },
  {
   "cell_type": "code",
   "execution_count": null,
   "metadata": {},
   "outputs": [],
   "source": [
    "X = train.drop([\"Survived\"], axis=1)\n",
    "y = train[\"Survived\"]"
   ]
  },
  {
   "cell_type": "code",
   "execution_count": null,
   "metadata": {},
   "outputs": [],
   "source": [
    "X_train, X_validation, y_train, y_validation = train_test_split(X, y, test_size=0.2, random_state=0)"
   ]
  },
  {
   "attachments": {},
   "cell_type": "markdown",
   "metadata": {},
   "source": [
    "##### Logistic Regression"
   ]
  },
  {
   "cell_type": "code",
   "execution_count": null,
   "metadata": {},
   "outputs": [],
   "source": [
    "from sklearn.linear_model import LogisticRegression\n",
    "\n",
    "model_lr = LogisticRegression()\n",
    "model_lr.fit(X_train, y_train)\n",
    "y_pred_lr = model_lr.predict(X_validation)\n",
    "\n",
    "print(\"Logistic Regression Accuracy: \", model_lr.score(X_validation, y_validation))\n",
    "print(\"Logistic Regression Cross validation score: \", np.mean(cross_val_score(model_lr, X_train, y_train, cv=10)))\n",
    "print(\"Logistic Regression Classification report:\\n\", metrics.classification_report(y_validation, y_pred_lr))\n",
    "\n",
    "sns.heatmap(confusion_matrix(y_validation, y_pred_lr), annot=True, fmt=\"d\")\n",
    "plt.title('Logistic Regression Confusion matrix', y=1.05, size=15)"
   ]
  },
  {
   "attachments": {},
   "cell_type": "markdown",
   "metadata": {},
   "source": [
    "##### KNN Classifier"
   ]
  },
  {
   "cell_type": "code",
   "execution_count": null,
   "metadata": {},
   "outputs": [],
   "source": [
    "from sklearn.neighbors import KNeighborsClassifier\n",
    "\n",
    "model_knn = KNeighborsClassifier(n_neighbors=7)\n",
    "model_knn.fit(X_train, y_train)\n",
    "y_pred_knn = model_knn.predict(X_validation)\n",
    "\n",
    "print(\"Knn Regressor Accuracy: \", model_knn.score(X_validation, y_validation))\n",
    "print(\"Knn Regressor validation score: \", np.mean(cross_val_score(model_knn, X_train, y_train, cv=10)))\n",
    "print(\"Knn Regressor Classification report:\\n\", metrics.classification_report(y_validation, y_pred_knn))\n",
    "\n",
    "sns.heatmap(confusion_matrix(y_validation, y_pred_knn), annot=True, fmt=\"d\")\n",
    "plt.title(\"Knn Regressor Confusion matrix\", y=1.05, size=15)"
   ]
  },
  {
   "attachments": {},
   "cell_type": "markdown",
   "metadata": {},
   "source": [
    "##### Dicision Tree"
   ]
  },
  {
   "cell_type": "code",
   "execution_count": null,
   "metadata": {},
   "outputs": [],
   "source": [
    "from sklearn.tree import DecisionTreeClassifier\n",
    "\n",
    "model_dt = DecisionTreeClassifier(max_depth=5)\n",
    "model_dt = model_dt.fit(X_train, y_train)\n",
    "y_pred_dt = model_dt.predict(X_validation)\n",
    "\n",
    "print(\"Decision tree Accuracy: \", model_dt.score(X_validation, y_validation))\n",
    "print(\"Decision tree Cross validation score: \", np.mean(cross_val_score(model_dt, X_train, y_train, cv=10)))\n",
    "print(\"Decision tree Classification report:\\n\", metrics.classification_report(y_validation, y_pred_dt))\n",
    "\n",
    "sns.heatmap(confusion_matrix(y_validation, y_pred_dt), annot=True, fmt=\"d\")\n",
    "plt.title('Decision tree Confusion matrix', y=1.05, size=15)"
   ]
  },
  {
   "attachments": {},
   "cell_type": "markdown",
   "metadata": {},
   "source": [
    "##### RandomForest"
   ]
  },
  {
   "cell_type": "code",
   "execution_count": null,
   "metadata": {},
   "outputs": [],
   "source": [
    "from sklearn.ensemble import RandomForestClassifier\n",
    "\n",
    "model_rf = RandomForestClassifier(\n",
    "    criterion=\"entropy\",\n",
    "    n_estimators=700,\n",
    "    min_samples_split=10,\n",
    "    min_samples_leaf=1,\n",
    "    max_features=\"auto\",\n",
    "    oob_score=True,\n",
    "    random_state=1,\n",
    "    n_jobs=-1,\n",
    ")\n",
    "model_rf.fit(X_train, y_train)\n",
    "y_pred_rf = model_rf.predict(X_validation)\n",
    "\n",
    "print(\"RandomForest Accuracy: \", model_rf.score(X_validation, y_validation))\n",
    "print(\"RandomForest Cross validation score: \", np.mean(cross_val_score(model_rf, X_train, y_train, cv=10)))\n",
    "print(\"RandomForest Classification report:\\n\", metrics.classification_report(y_validation, y_pred_rf))\n",
    "\n",
    "sns.heatmap(confusion_matrix(y_validation, y_pred_rf), annot=True, fmt=\"d\")\n",
    "plt.title('RandomForest Confusion matrix', y=1.05, size=15)"
   ]
  },
  {
   "attachments": {},
   "cell_type": "markdown",
   "metadata": {},
   "source": [
    "##### SVM (SVC)"
   ]
  },
  {
   "cell_type": "code",
   "execution_count": null,
   "metadata": {},
   "outputs": [],
   "source": [
    "from sklearn.svm import SVC\n",
    "\n",
    "model_svm = SVC(kernel=\"linear\", C=1, gamma=0.1)\n",
    "model_svm.fit(X_train, y_train)\n",
    "y_pred_svm = model_svm.predict(X_validation)\n",
    "\n",
    "print(\"SVM Accuracy: \", model_svm.score(X_validation, y_validation))\n",
    "print(\"SVM Cross validation score: \", np.mean(cross_val_score(model_svm, X_train, y_train, cv=10)))\n",
    "print(\"SVM Classification report:\\n\", metrics.classification_report(y_validation, y_pred_svm))\n",
    "\n",
    "sns.heatmap(confusion_matrix(y_validation, y_pred_svm), annot=True, fmt=\"d\")\n",
    "plt.title('SVM Confusion matrix', y=1.05, size=15)"
   ]
  },
  {
   "attachments": {},
   "cell_type": "markdown",
   "metadata": {},
   "source": [
    "##### XGBoost"
   ]
  },
  {
   "cell_type": "code",
   "execution_count": null,
   "metadata": {},
   "outputs": [],
   "source": [
    "from xgboost import XGBClassifier\n",
    "\n",
    "model_xgb = XGBClassifier(gamma=0.1, max_depth=10, n_estimators=700)\n",
    "model_xgb.fit(X_train, y_train)\n",
    "y_pred_xgb = model_xgb.predict(X_validation)\n",
    "\n",
    "print(\"XGBoost Accuracy: \", model_xgb.score(X_validation, y_validation))\n",
    "print(\"XGBoost Cross validation score: \", np.mean(cross_val_score(model_xgb, X_train, y_train, cv=10)))\n",
    "print(\"XGBoost Classification report:\\n\", metrics.classification_report(y_validation, y_pred_xgb))\n",
    "\n",
    "sns.heatmap(confusion_matrix(y_validation, y_pred_xgb), annot=True, fmt=\"d\")\n",
    "plt.title('XGBoost Confusion matrix', y=1.05, size=15)"
   ]
  },
  {
   "attachments": {},
   "cell_type": "markdown",
   "metadata": {},
   "source": [
    "> As we have seen, RandomForest and XGBoost has the best results. We can use either one to predict results based on the test data."
   ]
  },
  {
   "attachments": {},
   "cell_type": "markdown",
   "metadata": {},
   "source": [
    "#### Save output"
   ]
  },
  {
   "cell_type": "code",
   "execution_count": null,
   "metadata": {},
   "outputs": [],
   "source": [
    "y_pred = model_xgb.predict(test)\n",
    "output = pd.DataFrame({'Survived': y_pred})\n",
    "output.head()\n",
    "output.to_csv('output.csv', index=False)"
   ]
  }
 ],
 "metadata": {
  "kernelspec": {
   "display_name": "Python 3",
   "language": "python",
   "name": "python3"
  },
  "language_info": {
   "codemirror_mode": {
    "name": "ipython",
    "version": 3
   },
   "file_extension": ".py",
   "mimetype": "text/x-python",
   "name": "python",
   "nbconvert_exporter": "python",
   "pygments_lexer": "ipython3",
   "version": "3.10.7 (tags/v3.10.7:6cc6b13, Sep  5 2022, 14:08:36) [MSC v.1933 64 bit (AMD64)]"
  },
  "orig_nbformat": 4,
  "vscode": {
   "interpreter": {
    "hash": "369f2c481f4da34e4445cda3fffd2e751bd1c4d706f27375911949ba6bb62e1c"
   }
  }
 },
 "nbformat": 4,
 "nbformat_minor": 2
}
