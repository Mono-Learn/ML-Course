{
 "cells": [
  {
   "attachments": {},
   "cell_type": "markdown",
   "metadata": {},
   "source": [
    "<div style=\"text-align:center\">\n",
    "    <img src=\"../../files/monolearn-logo.png\" height=\"150px\">\n",
    "    <h1>ML course</h1>\n",
    "    <h3>Session 12: Bike sharing demand project</h3>\n",
    "    <h4><a href=\"https://amzenterprise.ir/\">Ali Momenzadeh</a></h5>\n",
    "</div>"
   ]
  },
  {
   "attachments": {},
   "cell_type": "markdown",
   "metadata": {},
   "source": [
    "#### Import libraries"
   ]
  },
  {
   "cell_type": "code",
   "execution_count": null,
   "metadata": {},
   "outputs": [],
   "source": [
    "import numpy as np\n",
    "import pandas as pd\n",
    "import matplotlib.pyplot as plt\n",
    "%matplotlib inline\n",
    "#When using the 'inline' backend, your matplotlib graphs will be included in your notebook, next to the code.\n",
    "\n",
    "import seaborn as sns\n",
    "\n",
    "import warnings\n",
    "warnings.filterwarnings('ignore')"
   ]
  },
  {
   "attachments": {},
   "cell_type": "markdown",
   "metadata": {},
   "source": [
    "#### Load and prepare data"
   ]
  },
  {
   "cell_type": "code",
   "execution_count": null,
   "metadata": {},
   "outputs": [],
   "source": [
    "train = pd.read_csv(\"train.csv\")\n",
    "test = pd.read_csv(\"test.csv\")"
   ]
  },
  {
   "attachments": {},
   "cell_type": "markdown",
   "metadata": {},
   "source": [
    "#### EDA"
   ]
  },
  {
   "cell_type": "code",
   "execution_count": null,
   "metadata": {},
   "outputs": [],
   "source": [
    "train.head()"
   ]
  },
  {
   "cell_type": "code",
   "execution_count": null,
   "metadata": {},
   "outputs": [],
   "source": [
    "test.head()"
   ]
  },
  {
   "cell_type": "code",
   "execution_count": null,
   "metadata": {},
   "outputs": [],
   "source": [
    "train.info()"
   ]
  },
  {
   "cell_type": "code",
   "execution_count": null,
   "metadata": {},
   "outputs": [],
   "source": [
    "test.info()"
   ]
  },
  {
   "cell_type": "code",
   "execution_count": null,
   "metadata": {},
   "outputs": [],
   "source": [
    "train.describe()"
   ]
  },
  {
   "cell_type": "code",
   "execution_count": null,
   "metadata": {},
   "outputs": [],
   "source": [
    "test.describe()"
   ]
  },
  {
   "attachments": {},
   "cell_type": "markdown",
   "metadata": {},
   "source": [
    "#### Data Preprocessing"
   ]
  },
  {
   "cell_type": "code",
   "execution_count": null,
   "metadata": {},
   "outputs": [],
   "source": [
    "train.isnull().sum()"
   ]
  },
  {
   "cell_type": "code",
   "execution_count": null,
   "metadata": {},
   "outputs": [],
   "source": [
    "# Convert string to datatime and create Hour, Month and Day\n",
    "train[\"datetime\"] = pd.to_datetime(train[\"datetime\"])\n",
    "train[\"Hour\"] = train[\"datetime\"].apply(lambda x: x.hour)\n",
    "train[\"Month\"] = train[\"datetime\"].apply(lambda x: x.month)\n",
    "train[\"Day\"] = train[\"datetime\"].apply(lambda x: x.dayofweek)\n",
    "train.drop([\"datetime\"], axis=1, inplace=True)\n",
    "\n",
    "test[\"datetime\"] = pd.to_datetime(test[\"datetime\"])\n",
    "test[\"Hour\"] = test[\"datetime\"].apply(lambda x: x.hour)\n",
    "test[\"Month\"] = test[\"datetime\"].apply(lambda x: x.month)\n",
    "test[\"Day\"] = test[\"datetime\"].apply(lambda x: x.dayofweek)\n",
    "test.drop([\"datetime\"], axis=1, inplace=True)"
   ]
  },
  {
   "cell_type": "code",
   "execution_count": null,
   "metadata": {},
   "outputs": [],
   "source": [
    "test.isnull().sum()"
   ]
  },
  {
   "cell_type": "code",
   "execution_count": null,
   "metadata": {},
   "outputs": [],
   "source": [
    "train.head()"
   ]
  },
  {
   "cell_type": "code",
   "execution_count": null,
   "metadata": {},
   "outputs": [],
   "source": [
    "test.head()"
   ]
  },
  {
   "attachments": {},
   "cell_type": "markdown",
   "metadata": {},
   "source": [
    "#### One-hot encoding"
   ]
  },
  {
   "cell_type": "code",
   "execution_count": null,
   "metadata": {},
   "outputs": [],
   "source": [
    "train = pd.get_dummies(train, columns=[\"season\", \"weather\", \"Hour\", \"Month\", \"Day\"])\n",
    "test = pd.get_dummies(test, columns=[\"season\", \"weather\", \"Hour\", \"Month\", \"Day\"])"
   ]
  },
  {
   "cell_type": "code",
   "execution_count": null,
   "metadata": {},
   "outputs": [],
   "source": [
    "train.info()"
   ]
  },
  {
   "cell_type": "code",
   "execution_count": null,
   "metadata": {},
   "outputs": [],
   "source": [
    "test.info()"
   ]
  },
  {
   "attachments": {},
   "cell_type": "markdown",
   "metadata": {},
   "source": [
    "#### Strorytelling - Visualization"
   ]
  },
  {
   "cell_type": "code",
   "execution_count": null,
   "metadata": {},
   "outputs": [],
   "source": [
    "corr = train.corr()\n",
    "corr.shape"
   ]
  },
  {
   "cell_type": "code",
   "execution_count": null,
   "metadata": {},
   "outputs": [],
   "source": [
    "plt.figure(figsize=(40, 40))\n",
    "sns.heatmap(\n",
    "    corr,\n",
    "    cbar=True,\n",
    "    square=True,\n",
    "    fmt=\".1f\",\n",
    "    annot=True,\n",
    "    annot_kws={\"size\": 15},\n",
    "    cmap=\"Blues\",\n",
    ")"
   ]
  },
  {
   "attachments": {},
   "cell_type": "markdown",
   "metadata": {},
   "source": [
    "#### Train and test (Regression)"
   ]
  },
  {
   "cell_type": "code",
   "execution_count": null,
   "metadata": {},
   "outputs": [],
   "source": [
    "from sklearn.model_selection import train_test_split\n",
    "from sklearn import metrics\n",
    "from sklearn.metrics import mean_squared_error"
   ]
  },
  {
   "cell_type": "code",
   "execution_count": null,
   "metadata": {},
   "outputs": [],
   "source": [
    "X = train.drop([\"casual\", \"registered\", \"count\"], axis=1)\n",
    "y = train[\"count\"]"
   ]
  },
  {
   "cell_type": "code",
   "execution_count": null,
   "metadata": {},
   "outputs": [],
   "source": [
    "X_train, X_validation, y_train, y_validation = train_test_split(X, y, test_size = 0.2, random_state = 0)"
   ]
  },
  {
   "attachments": {},
   "cell_type": "markdown",
   "metadata": {},
   "source": [
    "##### RandomForest Regression"
   ]
  },
  {
   "cell_type": "code",
   "execution_count": null,
   "metadata": {},
   "outputs": [],
   "source": [
    "from sklearn.ensemble import RandomForestRegressor\n",
    "\n",
    "model_rf = RandomForestRegressor()\n",
    "model_rf.fit(X_train, y_train)\n",
    "y_pred_rf = model_rf.predict(X_train)\n",
    "print(y_pred_rf)"
   ]
  },
  {
   "cell_type": "code",
   "execution_count": null,
   "metadata": {},
   "outputs": [],
   "source": [
    "sns.histplot(y_train - y_pred_rf)"
   ]
  },
  {
   "cell_type": "code",
   "execution_count": null,
   "metadata": {},
   "outputs": [],
   "source": [
    "map = sns.cubehelix_palette(as_cmap=True)\n",
    "f, ax = plt.subplots()\n",
    "points = ax.scatter(y_train, y_pred_rf, c=y_train, cmap=map)\n",
    "f.colorbar(points)\n",
    "plt.show()"
   ]
  },
  {
   "cell_type": "code",
   "execution_count": null,
   "metadata": {},
   "outputs": [],
   "source": [
    "print(\"R2 Score:\", metrics.r2_score(y_train, y_pred_rf))\n",
    "print(\"Mean Absolute Error:\", metrics.mean_absolute_error(y_train, y_pred_rf))\n",
    "print(\"Mean Squared Error:\", metrics.mean_squared_error(y_train, y_pred_rf))\n",
    "print(\"Root Mean Squared Error:\", np.sqrt(metrics.mean_squared_error(y_train, y_pred_rf)))"
   ]
  },
  {
   "attachments": {},
   "cell_type": "markdown",
   "metadata": {},
   "source": [
    "##### Linear Regression"
   ]
  },
  {
   "cell_type": "code",
   "execution_count": null,
   "metadata": {},
   "outputs": [],
   "source": [
    "from sklearn.linear_model import LinearRegression\n",
    "\n",
    "model_lr = LinearRegression()\n",
    "\n",
    "# Selecting only one feature (temp column) since the model is linear\n",
    "X_train_lr = X_train[\"temp\"]\n",
    "X_train_lr = X_train_lr.values.reshape(-1, 1)\n",
    "\n",
    "X_validation_lr = X_validation[\"temp\"]\n",
    "X_validation_lr = X_validation_lr.values.reshape(-1, 1)\n",
    "\n",
    "y_train_lr = y_train.values.reshape(-1, 1)\n",
    "y_validation_lr = y_validation.values.reshape(-1, 1)\n",
    "\n",
    "model_lr.fit(X_train_lr, y_train_lr)\n",
    "y_pred_lr = model_lr.predict(X_train_lr)\n",
    "print(y_pred_lr)"
   ]
  },
  {
   "cell_type": "code",
   "execution_count": null,
   "metadata": {},
   "outputs": [],
   "source": [
    "sns.histplot(y_train_lr - y_pred_lr)"
   ]
  },
  {
   "cell_type": "code",
   "execution_count": null,
   "metadata": {},
   "outputs": [],
   "source": [
    "map = sns.cubehelix_palette(as_cmap=True)\n",
    "f, ax = plt.subplots()\n",
    "points = ax.scatter(y_train, y_pred_lr, c=y_train, cmap=map)\n",
    "f.colorbar(points)\n",
    "plt.show()"
   ]
  },
  {
   "cell_type": "code",
   "execution_count": null,
   "metadata": {},
   "outputs": [],
   "source": [
    "print(\"R2 Score:\", metrics.r2_score(y_train_lr, y_pred_lr))\n",
    "print(\"Mean Absolute Error:\", metrics.mean_absolute_error(y_train_lr, y_pred_lr))\n",
    "print(\"Mean Squared Error:\", metrics.mean_squared_error(y_train_lr, y_pred_lr))\n",
    "print(\"Root Mean Squared Error:\", np.sqrt(metrics.mean_squared_error(y_train_lr, y_pred_lr)))"
   ]
  },
  {
   "attachments": {},
   "cell_type": "markdown",
   "metadata": {},
   "source": [
    "##### Multiple Regression"
   ]
  },
  {
   "cell_type": "code",
   "execution_count": null,
   "metadata": {},
   "outputs": [],
   "source": [
    "model_mlr = LinearRegression()\n",
    "model_mlr.fit(X_train, y_train)\n",
    "y_pred_mlr = model_mlr.predict(X_train)\n",
    "print(y_pred_mlr)"
   ]
  },
  {
   "cell_type": "code",
   "execution_count": null,
   "metadata": {},
   "outputs": [],
   "source": [
    "sns.histplot(y_train - y_pred_mlr)"
   ]
  },
  {
   "cell_type": "code",
   "execution_count": null,
   "metadata": {},
   "outputs": [],
   "source": [
    "map = sns.cubehelix_palette(as_cmap=True)\n",
    "f, ax = plt.subplots()\n",
    "points = ax.scatter(y_train, y_pred_mlr, c=y_train, cmap=map)\n",
    "f.colorbar(points)\n",
    "plt.show()"
   ]
  },
  {
   "cell_type": "code",
   "execution_count": null,
   "metadata": {},
   "outputs": [],
   "source": [
    "print(\"R2 Score:\", metrics.r2_score(y_train, y_pred_mlr))\n",
    "print(\"Mean Absolute Error:\", metrics.mean_absolute_error(y_train, y_pred_mlr))\n",
    "print(\"Mean Squared Error:\", metrics.mean_squared_error(y_train, y_pred_mlr))\n",
    "print(\"Root Mean Squared Error:\", np.sqrt(metrics.mean_squared_error(y_train, y_pred_mlr)))"
   ]
  },
  {
   "cell_type": "code",
   "execution_count": null,
   "metadata": {},
   "outputs": [],
   "source": [
    "print(model_mlr.intercept_)\n",
    "print(model_mlr.coef_)"
   ]
  },
  {
   "cell_type": "code",
   "execution_count": null,
   "metadata": {},
   "outputs": [],
   "source": [
    "coeffcients = pd.DataFrame([X_train.columns,model_mlr.coef_]).T\n",
    "coeffcients = coeffcients.rename(columns={0: 'Attribute', 1: 'Coefficients'})\n",
    "coeffcients"
   ]
  },
  {
   "attachments": {},
   "cell_type": "markdown",
   "metadata": {},
   "source": [
    "##### KNN Regression"
   ]
  },
  {
   "cell_type": "code",
   "execution_count": null,
   "metadata": {},
   "outputs": [],
   "source": [
    "from sklearn.neighbors import KNeighborsRegressor\n",
    "\n",
    "model_knn = KNeighborsRegressor(n_neighbors=2)\n",
    "model_knn.fit(X_train, y_train)\n",
    "y_pred_knn = model_knn.predict(X_train)\n",
    "print(y_pred_knn)"
   ]
  },
  {
   "cell_type": "code",
   "execution_count": null,
   "metadata": {},
   "outputs": [],
   "source": [
    "sns.histplot(y_train - y_pred_knn)"
   ]
  },
  {
   "cell_type": "code",
   "execution_count": null,
   "metadata": {},
   "outputs": [],
   "source": [
    "map = sns.cubehelix_palette(as_cmap=True)\n",
    "f, ax = plt.subplots()\n",
    "points = ax.scatter(y_train, y_pred_knn, c=y_train, cmap=map)\n",
    "f.colorbar(points)\n",
    "plt.show()"
   ]
  },
  {
   "cell_type": "code",
   "execution_count": null,
   "metadata": {},
   "outputs": [],
   "source": [
    "print(\"R2 Score:\", metrics.r2_score(y_train, y_pred_knn))\n",
    "print(\"Mean Absolute Error:\", metrics.mean_absolute_error(y_train, y_pred_knn))\n",
    "print(\"Mean Squared Error:\", metrics.mean_squared_error(y_train, y_pred_knn))\n",
    "print(\"Root Mean Squared Error:\", np.sqrt(metrics.mean_squared_error(y_train, y_pred_knn)))"
   ]
  },
  {
   "attachments": {},
   "cell_type": "markdown",
   "metadata": {},
   "source": [
    "##### Decision Tree Regressor"
   ]
  },
  {
   "cell_type": "code",
   "execution_count": null,
   "metadata": {},
   "outputs": [],
   "source": [
    "from sklearn.tree import DecisionTreeRegressor\n",
    "\n",
    "model_dt = DecisionTreeRegressor()\n",
    "model_dt.fit(X_train, y_train)\n",
    "y_pred_dt = model_dt.predict(X_train)\n",
    "print(y_pred_dt)"
   ]
  },
  {
   "cell_type": "code",
   "execution_count": null,
   "metadata": {},
   "outputs": [],
   "source": [
    "sns.histplot(y_train - y_pred_dt)"
   ]
  },
  {
   "cell_type": "code",
   "execution_count": null,
   "metadata": {},
   "outputs": [],
   "source": [
    "map = sns.cubehelix_palette(as_cmap=True)\n",
    "f, ax = plt.subplots()\n",
    "points = ax.scatter(y_train, y_pred_dt, c=y_train, cmap=map)\n",
    "f.colorbar(points)\n",
    "plt.show()"
   ]
  },
  {
   "cell_type": "code",
   "execution_count": null,
   "metadata": {},
   "outputs": [],
   "source": [
    "print(\"R2 Score:\", metrics.r2_score(y_train, y_pred_dt))\n",
    "print(\"Mean Absolute Error:\", metrics.mean_absolute_error(y_train, y_pred_dt))\n",
    "print(\"Mean Squared Error:\", metrics.mean_squared_error(y_train, y_pred_dt))\n",
    "print(\"Root Mean Squared Error:\", np.sqrt(metrics.mean_squared_error(y_train, y_pred_dt)))"
   ]
  },
  {
   "attachments": {},
   "cell_type": "markdown",
   "metadata": {},
   "source": [
    "> So far, it's obvious that Decision Tree is the best model for this problem and RandomForest is the second best. This can be seen in the provided sample test results below as well (Predicted values are closer in these two models overall)."
   ]
  },
  {
   "attachments": {},
   "cell_type": "markdown",
   "metadata": {},
   "source": [
    "### Results evaluation"
   ]
  },
  {
   "cell_type": "code",
   "execution_count": null,
   "metadata": {},
   "outputs": [],
   "source": [
    "# Random Forest Regressor\n",
    "y_pred_test_rf = model_rf.predict(test)\n",
    "y_pred_test_rf = y_pred_test_rf.reshape(-1, 1).tolist()\n",
    "\n",
    "# if you want to save in the file, use the following code\n",
    "# output = pd.DataFrame({'count': y_pred_test_rf})\n",
    "# output.head()\n",
    "# output.to_csv('output.csv', index=False)\n",
    "\n",
    "# Linear Regression\n",
    "y_pred_test_lr = model_lr.predict(test[\"temp\"].values.reshape(-1, 1)) # Selecting only one feature (temp column) since the model is linear\n",
    "y_pred_test_lr = y_pred_test_lr.reshape(-1, 1).tolist()\n",
    "\n",
    "# Multiple Linear Regression\n",
    "y_pred_test_mlr = model_mlr.predict(test)\n",
    "y_pred_test_mlr = y_pred_test_mlr.reshape(-1, 1).tolist()\n",
    "\n",
    "# KNN Regression\n",
    "y_pred_test_knn = model_knn.predict(test)\n",
    "y_pred_test_knn = y_pred_test_knn.reshape(-1, 1).tolist()\n",
    "\n",
    "# Decision Tree Regressor\n",
    "y_pred_test_dt = model_dt.predict(test)\n",
    "y_pred_test_dt = y_pred_test_dt.reshape(-1, 1).tolist()\n",
    "\n",
    "# Create a dataframe from the predictions\n",
    "preds = pd.DataFrame({\"Random Forest Regressor\": y_pred_test_rf, \"Linear Regression\": y_pred_test_lr, \"Multiple Linear Regression\": y_pred_test_mlr, \"KNN Regression\": y_pred_test_knn, \"Decision Tree Regressor\": y_pred_test_dt})\n",
    "\n",
    "random_rows = np.random.choice(preds.index, size=10)\n",
    "preds.loc[random_rows]"
   ]
  }
 ],
 "metadata": {
  "kernelspec": {
   "display_name": "Python 3",
   "language": "python",
   "name": "python3"
  },
  "language_info": {
   "codemirror_mode": {
    "name": "ipython",
    "version": 3
   },
   "file_extension": ".py",
   "mimetype": "text/x-python",
   "name": "python",
   "nbconvert_exporter": "python",
   "pygments_lexer": "ipython3",
   "version": "3.10.7 (tags/v3.10.7:6cc6b13, Sep  5 2022, 14:08:36) [MSC v.1933 64 bit (AMD64)]"
  },
  "orig_nbformat": 4,
  "vscode": {
   "interpreter": {
    "hash": "369f2c481f4da34e4445cda3fffd2e751bd1c4d706f27375911949ba6bb62e1c"
   }
  }
 },
 "nbformat": 4,
 "nbformat_minor": 2
}
