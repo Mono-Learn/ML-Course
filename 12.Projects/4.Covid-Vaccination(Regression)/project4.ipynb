{
 "cells": [
  {
   "attachments": {},
   "cell_type": "markdown",
   "metadata": {},
   "source": [
    "<div style=\"text-align:center\">\n",
    "    <img src=\"../../files/monolearn-logo.png\" height=\"150px\">\n",
    "    <h1>ML course</h1>\n",
    "    <h3>Session 12: Covid vaccination project</h3>\n",
    "    <h4><a href=\"https://amzenterprise.ir/\">Ali Momenzadeh</a></h5>\n",
    "</div>"
   ]
  },
  {
   "attachments": {},
   "cell_type": "markdown",
   "metadata": {},
   "source": [
    "#### Import libraries"
   ]
  },
  {
   "cell_type": "code",
   "execution_count": null,
   "metadata": {},
   "outputs": [],
   "source": [
    "import numpy as np\n",
    "import pandas as pd\n",
    "import matplotlib.pyplot as plt\n",
    "%matplotlib inline\n",
    "#When using the 'inline' backend, your matplotlib graphs will be included in your notebook, next to the code.\n",
    "\n",
    "import seaborn as sns\n",
    "\n",
    "import warnings\n",
    "warnings.filterwarnings('ignore')"
   ]
  },
  {
   "attachments": {},
   "cell_type": "markdown",
   "metadata": {},
   "source": [
    "#### Load and prepare data"
   ]
  },
  {
   "cell_type": "code",
   "execution_count": null,
   "metadata": {},
   "outputs": [],
   "source": [
    "data1 = pd.read_csv(\"country_vaccinations.csv\")\n",
    "data2 = pd.read_csv(\"country_vaccinations_by_manufacturer.csv\")"
   ]
  },
  {
   "attachments": {},
   "cell_type": "markdown",
   "metadata": {},
   "source": [
    "#### EDA"
   ]
  },
  {
   "cell_type": "code",
   "execution_count": null,
   "metadata": {},
   "outputs": [],
   "source": [
    "data1.head()"
   ]
  },
  {
   "cell_type": "code",
   "execution_count": null,
   "metadata": {},
   "outputs": [],
   "source": [
    "data2.head()"
   ]
  },
  {
   "cell_type": "code",
   "execution_count": null,
   "metadata": {},
   "outputs": [],
   "source": [
    "data1.info()"
   ]
  },
  {
   "cell_type": "code",
   "execution_count": null,
   "metadata": {},
   "outputs": [],
   "source": [
    "data2.info()"
   ]
  },
  {
   "cell_type": "code",
   "execution_count": null,
   "metadata": {},
   "outputs": [],
   "source": [
    "data1.describe()"
   ]
  },
  {
   "cell_type": "code",
   "execution_count": null,
   "metadata": {},
   "outputs": [],
   "source": [
    "data2.describe()"
   ]
  },
  {
   "attachments": {},
   "cell_type": "markdown",
   "metadata": {},
   "source": [
    "#### Data Preprocessing"
   ]
  },
  {
   "cell_type": "code",
   "execution_count": null,
   "metadata": {},
   "outputs": [],
   "source": [
    "data1.isnull().sum()"
   ]
  },
  {
   "cell_type": "code",
   "execution_count": null,
   "metadata": {},
   "outputs": [],
   "source": [
    "data2.isnull().sum()"
   ]
  },
  {
   "cell_type": "code",
   "execution_count": null,
   "metadata": {},
   "outputs": [],
   "source": [
    "print(\"The number of countries:\", len(np.unique(data1[\"country\"])))"
   ]
  },
  {
   "cell_type": "code",
   "execution_count": null,
   "metadata": {},
   "outputs": [],
   "source": [
    "data1 = data1.dropna(subset=[\"people_fully_vaccinated\"])"
   ]
  },
  {
   "cell_type": "code",
   "execution_count": null,
   "metadata": {},
   "outputs": [],
   "source": [
    "print(\"The number of countries:\", len(np.unique(data1[\"country\"])))"
   ]
  },
  {
   "cell_type": "code",
   "execution_count": null,
   "metadata": {},
   "outputs": [],
   "source": [
    "data1.isnull().sum()"
   ]
  },
  {
   "cell_type": "code",
   "execution_count": null,
   "metadata": {},
   "outputs": [],
   "source": [
    "data1[\"date\"] = pd.to_datetime(data1[\"date\"], format=\"%Y-%m-%d\")\n",
    "data1.head()"
   ]
  },
  {
   "cell_type": "code",
   "execution_count": null,
   "metadata": {},
   "outputs": [],
   "source": [
    "data1 = data1.replace([np.inf, -np.inf], np.nan)\n",
    "data1 = data1.fillna(0)\n",
    "data1.isnull().sum()"
   ]
  },
  {
   "cell_type": "code",
   "execution_count": null,
   "metadata": {},
   "outputs": [],
   "source": [
    "data1[\"day\"] = pd.DatetimeIndex(data1[\"date\"]).day\n",
    "data1[\"month\"] = pd.DatetimeIndex(data1[\"date\"]).month\n",
    "data1[\"year\"] = pd.DatetimeIndex(data1[\"date\"]).year\n",
    "data1[\"week_of_year\"] = pd.DatetimeIndex(data1[\"date\"]).weekofyear\n",
    "data1[\"day_of_year\"] = pd.DatetimeIndex(data1[\"date\"]).dayofyear\n",
    "data1[\"day_of_week\"] = pd.DatetimeIndex(data1[\"date\"]).dayofweek"
   ]
  },
  {
   "cell_type": "code",
   "execution_count": null,
   "metadata": {},
   "outputs": [],
   "source": [
    "data1.head()"
   ]
  },
  {
   "attachments": {},
   "cell_type": "markdown",
   "metadata": {},
   "source": [
    "#### Strorytelling - Visualization"
   ]
  },
  {
   "cell_type": "code",
   "execution_count": null,
   "metadata": {},
   "outputs": [],
   "source": [
    "np.unique(data2[\"vaccine\"])"
   ]
  },
  {
   "cell_type": "code",
   "execution_count": null,
   "metadata": {},
   "outputs": [],
   "source": [
    "np.unique(data2[\"location\"])"
   ]
  },
  {
   "attachments": {},
   "cell_type": "markdown",
   "metadata": {},
   "source": [
    "Number of Iranian People Vaccinated"
   ]
  },
  {
   "cell_type": "code",
   "execution_count": null,
   "metadata": {},
   "outputs": [],
   "source": [
    "data1.query('country == \"Iran\"')[\"people_vaccinated\"].sum()"
   ]
  },
  {
   "cell_type": "code",
   "execution_count": null,
   "metadata": {},
   "outputs": [],
   "source": [
    "def max_total_vaccinated(data):\n",
    "    return (\n",
    "        data[[\"country\", \"total_vaccinations\"]]\n",
    "        .groupby(by=\"country\")\n",
    "        .max()\n",
    "        .sort_values(by=\"total_vaccinations\", ascending=False)\n",
    "        .reset_index()\n",
    "    )\n",
    "\n",
    "max_total_vaccinated(data1)"
   ]
  },
  {
   "cell_type": "code",
   "execution_count": null,
   "metadata": {},
   "outputs": [],
   "source": [
    "def sum_people_vaccinated(data):\n",
    "    return (\n",
    "        data[[\"country\", \"people_vaccinated\"]]\n",
    "        .groupby(by=\"country\")\n",
    "        .sum()\n",
    "        .sort_values(by=\"people_vaccinated\", ascending=False)\n",
    "        .reset_index()\n",
    "    )\n",
    "\n",
    "sum_people_vaccinated(data1)"
   ]
  },
  {
   "cell_type": "code",
   "execution_count": null,
   "metadata": {},
   "outputs": [],
   "source": [
    "def sum_people_fully_vaccinated(data):\n",
    "    return (\n",
    "        data[[\"country\", \"people_fully_vaccinated\"]]\n",
    "        .groupby(by=\"country\")\n",
    "        .sum()\n",
    "        .sort_values(by=\"people_fully_vaccinated\", ascending=False)\n",
    "        .reset_index()\n",
    "    )\n",
    "\n",
    "sum_people_fully_vaccinated(data1)"
   ]
  },
  {
   "cell_type": "code",
   "execution_count": null,
   "metadata": {},
   "outputs": [],
   "source": [
    "def avg_total_vaccinated_per_hundred(data):\n",
    "    return (\n",
    "        data[[\"country\", \"total_vaccinations_per_hundred\"]]\n",
    "        .groupby(by=\"country\")\n",
    "        .mean()\n",
    "        .sort_values(by=\"total_vaccinations_per_hundred\", ascending=False)\n",
    "        .reset_index()\n",
    "    )\n",
    "\n",
    "avg_total_vaccinated_per_hundred(data1)"
   ]
  },
  {
   "cell_type": "code",
   "execution_count": null,
   "metadata": {},
   "outputs": [],
   "source": [
    "def avg_people_vaccinated_per_hundred(data):\n",
    "    return (\n",
    "        data[[\"country\", \"people_vaccinated_per_hundred\"]]\n",
    "        .groupby(by=\"country\")\n",
    "        .mean()\n",
    "        .sort_values(by=\"people_vaccinated_per_hundred\", ascending=False)\n",
    "        .reset_index()\n",
    "    )\n",
    "\n",
    "avg_people_vaccinated_per_hundred(data1)"
   ]
  },
  {
   "cell_type": "code",
   "execution_count": null,
   "metadata": {},
   "outputs": [],
   "source": [
    "def avg_people_fully_vaccinated(data):\n",
    "    return (\n",
    "        data[[\"country\", \"people_fully_vaccinated_per_hundred\"]]\n",
    "        .groupby(by=\"country\")\n",
    "        .mean()\n",
    "        .sort_values(by=\"people_fully_vaccinated_per_hundred\", ascending=False)\n",
    "        .reset_index()\n",
    "    )\n",
    "\n",
    "avg_people_fully_vaccinated(data1)"
   ]
  },
  {
   "cell_type": "code",
   "execution_count": null,
   "metadata": {},
   "outputs": [],
   "source": [
    "def avg_daily_vaccinations(data):\n",
    "    return (\n",
    "        data[[\"country\", \"daily_vaccinations_per_million\"]]\n",
    "        .groupby(by=\"country\")\n",
    "        .mean()\n",
    "        .sort_values(by=\"daily_vaccinations_per_million\", ascending=False)\n",
    "        .reset_index()\n",
    "    )\n",
    "\n",
    "avg_daily_vaccinations(data1)"
   ]
  },
  {
   "cell_type": "code",
   "execution_count": null,
   "metadata": {},
   "outputs": [],
   "source": [
    "def min_daily_vaccination_country(data):\n",
    "    daily_vaccination = data.pivot_table(\n",
    "        index=\"country\", columns=\"date\", values=\"daily_vaccinations\"\n",
    "    )\n",
    "    daily_vaccination.replace(0.00, np.nan, inplace=True)\n",
    "    daily_vaccination[\"Min Daily Vaccination\"] = daily_vaccination.min(axis=1)\n",
    "    daily_vaccination[\"Date - Min Daily Vaccination\"] = daily_vaccination.idxmin(axis=1)\n",
    "    daily_vaccination.sort_values(\n",
    "        by=\"Min Daily Vaccination\", ascending=True, inplace=True\n",
    "    )\n",
    "    daily_vaccination.rename_axis(\"\", axis=1, inplace=True)\n",
    "    return daily_vaccination[\n",
    "        [\"Min Daily Vaccination\", \"Date - Min Daily Vaccination\"]\n",
    "    ].reset_index()\n",
    "\n",
    "min_daily_vaccination_country(data1)"
   ]
  },
  {
   "cell_type": "code",
   "execution_count": null,
   "metadata": {},
   "outputs": [],
   "source": [
    "def max_daily_vaccination_country(data):\n",
    "    daily_vaccination = data.pivot_table(\n",
    "        index=\"country\", columns=\"date\", values=\"daily_vaccinations\"\n",
    "    )\n",
    "    daily_vaccination[\"Max Daily Vaccination\"] = daily_vaccination.max(axis=1)\n",
    "    daily_vaccination[\"Date - Max Daily Vaccination\"] = daily_vaccination.idxmax(axis=1)\n",
    "    daily_vaccination.sort_values(\n",
    "        by=\"Max Daily Vaccination\", ascending=False, inplace=True\n",
    "    )\n",
    "    daily_vaccination.rename_axis(\"\", axis=1, inplace=True)\n",
    "\n",
    "    return daily_vaccination[\n",
    "        [\"Max Daily Vaccination\", \"Date - Max Daily Vaccination\"]\n",
    "    ].reset_index()\n",
    "\n",
    "max_daily_vaccination_country(data1)"
   ]
  },
  {
   "attachments": {},
   "cell_type": "markdown",
   "metadata": {},
   "source": [
    "Top and bottom countries based on Total Vaccination"
   ]
  },
  {
   "cell_type": "code",
   "execution_count": null,
   "metadata": {},
   "outputs": [],
   "source": [
    "sns.set_theme(style=\"whitegrid\")\n",
    "sns.set(rc={\"figure.figsize\": (12, 5)})\n",
    "\n",
    "fig, axes = plt.subplots(2, 1)\n",
    "\n",
    "sns.barplot(\n",
    "    x=\"country\",\n",
    "    y=\"total_vaccinations\",\n",
    "    data=max_total_vaccinated(data1).head(),\n",
    "    ax=axes[0],\n",
    ")\n",
    "axes[0].set(\n",
    "    xlabel=\"\",\n",
    "    ylabel=\"Total Vaccinations\",\n",
    "    title=\"Top countries based on Total Vaccination\",\n",
    ")\n",
    "\n",
    "sns.barplot(\n",
    "    x=\"country\",\n",
    "    y=\"total_vaccinations\",\n",
    "    data=max_total_vaccinated(data1).tail(),\n",
    "    ax=axes[1],\n",
    ")\n",
    "axes[1].set(\n",
    "    xlabel=\"\",\n",
    "    ylabel=\"Total Vaccinations\",\n",
    "    title=\"Bottom countries based on Total Vaccination\",\n",
    ")\n",
    "\n",
    "fig.tight_layout()\n",
    "plt.show()"
   ]
  },
  {
   "attachments": {},
   "cell_type": "markdown",
   "metadata": {},
   "source": [
    "Top and bottom countries based on People Vaccinated"
   ]
  },
  {
   "cell_type": "code",
   "execution_count": null,
   "metadata": {},
   "outputs": [],
   "source": [
    "fig, axes = plt.subplots(2, 1)\n",
    "\n",
    "sns.barplot(\n",
    "    x=\"country\",\n",
    "    y=\"people_vaccinated\",\n",
    "    data=sum_people_vaccinated(data1).head(),\n",
    "    ax=axes[0],\n",
    ")\n",
    "axes[0].set(\n",
    "    xlabel=\"\",\n",
    "    ylabel=\"People Vaccinated\",\n",
    "    title=\"Top countries based on People Vaccinated\",\n",
    ")\n",
    "\n",
    "sns.barplot(\n",
    "    x=\"country\",\n",
    "    y=\"people_vaccinated\",\n",
    "    data=sum_people_vaccinated(data1).tail(),\n",
    "    ax=axes[1],\n",
    ")\n",
    "axes[1].set(\n",
    "    xlabel=\"\",\n",
    "    ylabel=\"People Vaccinated\",\n",
    "    title=\"Bottom countries based on People Vaccinated\",\n",
    ")\n",
    "\n",
    "fig.tight_layout()\n",
    "plt.show()"
   ]
  },
  {
   "attachments": {},
   "cell_type": "markdown",
   "metadata": {},
   "source": [
    "Top and bottom baed on People Fully Vaccinated"
   ]
  },
  {
   "cell_type": "code",
   "execution_count": null,
   "metadata": {},
   "outputs": [],
   "source": [
    "fig, axes = plt.subplots(2, 1)\n",
    "\n",
    "sns.barplot(\n",
    "    x=\"country\",\n",
    "    y=\"people_fully_vaccinated\",\n",
    "    data=sum_people_fully_vaccinated(data1).head(),\n",
    "    ax=axes[0],\n",
    ")\n",
    "axes[0].set(\n",
    "    xlabel=\"\",\n",
    "    ylabel=\"People Fully Vaccinated\",\n",
    "    title=\"Top countries based on People Fully Vaccinated\",\n",
    ")\n",
    "\n",
    "sns.barplot(\n",
    "    x=\"country\",\n",
    "    y=\"people_fully_vaccinated\",\n",
    "    data=sum_people_fully_vaccinated(data1).tail(),\n",
    "    ax=axes[1],\n",
    ")\n",
    "axes[1].set(\n",
    "    xlabel=\"\",\n",
    "    ylabel=\"People Fully Vaccinated\",\n",
    "    title=\"Vottom countries based on People Fully Vaccinated\",\n",
    ")\n",
    "\n",
    "fig.tight_layout()\n",
    "plt.show()"
   ]
  },
  {
   "attachments": {},
   "cell_type": "markdown",
   "metadata": {},
   "source": [
    "Top and bottom countries based on Total Vaccinations Per Hundred"
   ]
  },
  {
   "cell_type": "code",
   "execution_count": null,
   "metadata": {},
   "outputs": [],
   "source": [
    "fig, axes = plt.subplots(2, 1)\n",
    "\n",
    "sns.barplot(\n",
    "    x=\"country\",\n",
    "    y=\"total_vaccinations_per_hundred\",\n",
    "    data=avg_total_vaccinated_per_hundred(data1).head(),\n",
    "    ax=axes[0],\n",
    ")\n",
    "axes[0].set(\n",
    "    xlabel=\"\",\n",
    "    ylabel=\"Average Vaccinations per 100\",\n",
    "    title=\"Top countries based on Total Vaccinations Per Hundred\",\n",
    ")\n",
    "\n",
    "sns.barplot(\n",
    "    x=\"country\",\n",
    "    y=\"total_vaccinations_per_hundred\",\n",
    "    data=avg_total_vaccinated_per_hundred(data1).tail(),\n",
    "    ax=axes[1],\n",
    ")\n",
    "axes[1].set(\n",
    "    xlabel=\"\",\n",
    "    ylabel=\"Average Vaccinations per 100\",\n",
    "    title=\"Bottom countries based on Total Vaccinations Per Hundred\",\n",
    ")\n",
    "\n",
    "fig.tight_layout(h_pad=3)\n",
    "plt.show()"
   ]
  },
  {
   "attachments": {},
   "cell_type": "markdown",
   "metadata": {},
   "source": [
    "Top and bottom countries based on People Vaccinated Per Hundred"
   ]
  },
  {
   "cell_type": "code",
   "execution_count": null,
   "metadata": {},
   "outputs": [],
   "source": [
    "fig, axes = plt.subplots(2, 1)\n",
    "\n",
    "sns.barplot(\n",
    "    x=\"country\",\n",
    "    y=\"people_vaccinated_per_hundred\",\n",
    "    data=avg_people_vaccinated_per_hundred(data1).head(),\n",
    "    ax=axes[0],\n",
    ")\n",
    "axes[0].set(\n",
    "    xlabel=\"\",\n",
    "    ylabel=\"People Vaccinated per 100\",\n",
    "    title=\"Top countries based on People Vaccinated Per Hundred\",\n",
    ")\n",
    "\n",
    "sns.barplot(\n",
    "    x=\"country\",\n",
    "    y=\"people_vaccinated_per_hundred\",\n",
    "    data=avg_people_vaccinated_per_hundred(data1).tail(),\n",
    "    ax=axes[1],\n",
    ")\n",
    "axes[1].set(\n",
    "    xlabel=\"\",\n",
    "    ylabel=\"People Vaccinated per 100\",\n",
    "    title=\"Bottom countries based on People Vaccinated Per Hundred\",\n",
    ")\n",
    "\n",
    "fig.tight_layout()\n",
    "plt.show()"
   ]
  },
  {
   "attachments": {},
   "cell_type": "markdown",
   "metadata": {},
   "source": [
    "Top and bottom countries based on People Fully Vaccinated Per Hundred"
   ]
  },
  {
   "cell_type": "code",
   "execution_count": null,
   "metadata": {},
   "outputs": [],
   "source": [
    "fig, axes = plt.subplots(2, 1)\n",
    "\n",
    "sns.barplot(\n",
    "    x=\"country\",\n",
    "    y=\"people_fully_vaccinated_per_hundred\",\n",
    "    data=avg_people_fully_vaccinated(data1).head(),\n",
    "    ax=axes[0],\n",
    ")\n",
    "axes[0].set(\n",
    "    xlabel=\"\",\n",
    "    ylabel=\"People Fully Vaccinated per 100\",\n",
    "    title=\"Top countries based on People Fully Vaccinated Per Hundred\",\n",
    ")\n",
    "\n",
    "sns.barplot(\n",
    "    x=\"country\",\n",
    "    y=\"people_fully_vaccinated_per_hundred\",\n",
    "    data=avg_people_fully_vaccinated(data1).tail(),\n",
    "    ax=axes[1],\n",
    ")\n",
    "axes[1].set(\n",
    "    xlabel=\"\",\n",
    "    ylabel=\"People Fully Vaccinated per 100\",\n",
    "    title=\"Bottom countries based on People Fully Vaccinated Per Hundred\",\n",
    ")\n",
    "\n",
    "fig.tight_layout(h_pad=3)\n",
    "plt.show()"
   ]
  },
  {
   "attachments": {},
   "cell_type": "markdown",
   "metadata": {},
   "source": [
    "Top and bottom Daily Vaccination based on Country"
   ]
  },
  {
   "cell_type": "code",
   "execution_count": null,
   "metadata": {},
   "outputs": [],
   "source": [
    "fig, axes = plt.subplots(1, 2)\n",
    "\n",
    "sns.barplot(\n",
    "    data=max_daily_vaccination_country(data1).head(),\n",
    "    x=\"country\",\n",
    "    y=\"Max Daily Vaccination\",\n",
    "    ax=axes[0],\n",
    "    hue=\"Date - Max Daily Vaccination\",\n",
    ")\n",
    "axes[0].set(\n",
    "    xlabel=\"\", ylabel=\"Daily Vaccination\", title=\"Max Daily Vaccination by Country\"\n",
    ")\n",
    "\n",
    "sns.barplot(\n",
    "    data=min_daily_vaccination_country(data1).head(),\n",
    "    x=\"country\",\n",
    "    y=\"Min Daily Vaccination\",\n",
    "    ax=axes[1],\n",
    "    hue=\"Date - Min Daily Vaccination\",\n",
    ")\n",
    "axes[1].set(\n",
    "    xlabel=\"\", ylabel=\"Daily Vaccination\", title=\"Min Daily Vaccination by Country\"\n",
    ")\n",
    "\n",
    "fig.tight_layout()\n",
    "plt.show()"
   ]
  },
  {
   "attachments": {},
   "cell_type": "markdown",
   "metadata": {},
   "source": [
    "Top and bottom Daily Vaccination based on Country Per Million"
   ]
  },
  {
   "cell_type": "code",
   "execution_count": null,
   "metadata": {},
   "outputs": [],
   "source": [
    "fig, axes = plt.subplots(2, 1)\n",
    "\n",
    "sns.barplot(\n",
    "    x=\"country\",\n",
    "    y=\"daily_vaccinations_per_million\",\n",
    "    data=avg_daily_vaccinations(data1).head(),\n",
    "    ax=axes[0],\n",
    ")\n",
    "axes[0].set(\n",
    "    xlabel=\"\",\n",
    "    ylabel=\"Daily Vaccinations per Million\",\n",
    "    title=\"Top Daily Vaccination based on Country Per Million\",\n",
    ")\n",
    "\n",
    "sns.barplot(\n",
    "    x=\"country\",\n",
    "    y=\"daily_vaccinations_per_million\",\n",
    "    data=avg_daily_vaccinations(data1).tail(),\n",
    "    ax=axes[1],\n",
    ")\n",
    "axes[1].set(\n",
    "    xlabel=\"\",\n",
    "    ylabel=\"Daily Vaccinations per Million\",\n",
    "    title=\"Bottom Daily Vaccination based on Country Per Million\",\n",
    ")\n",
    "\n",
    "fig.tight_layout(h_pad=3)\n",
    "plt.show()"
   ]
  },
  {
   "attachments": {},
   "cell_type": "markdown",
   "metadata": {},
   "source": [
    "Evolution of Total Vaccinations"
   ]
  },
  {
   "cell_type": "code",
   "execution_count": null,
   "metadata": {},
   "outputs": [],
   "source": [
    "sns.lineplot(x=\"month\", y=\"total_vaccinations\", data=data1)"
   ]
  },
  {
   "cell_type": "code",
   "execution_count": null,
   "metadata": {},
   "outputs": [],
   "source": [
    "sns.lineplot(x=\"day_of_year\", y=\"total_vaccinations\", data=data1)"
   ]
  },
  {
   "cell_type": "code",
   "execution_count": null,
   "metadata": {},
   "outputs": [],
   "source": [
    "sns.lineplot(x=\"day\", y=\"total_vaccinations\", data=data1)"
   ]
  },
  {
   "cell_type": "code",
   "execution_count": null,
   "metadata": {},
   "outputs": [],
   "source": [
    "sns.lineplot(x=\"date\", y=\"total_vaccinations\", data=data1)"
   ]
  },
  {
   "attachments": {},
   "cell_type": "markdown",
   "metadata": {},
   "source": [
    "Share of each vaccine"
   ]
  },
  {
   "cell_type": "code",
   "execution_count": null,
   "metadata": {},
   "outputs": [],
   "source": [
    "shares = data2.groupby([\"vaccine\"])[\"total_vaccinations\"].sum()\n",
    "plt.pie(shares, labels=shares.index, autopct=\"%1.1f%%\", radius=4)"
   ]
  },
  {
   "cell_type": "code",
   "execution_count": null,
   "metadata": {},
   "outputs": [],
   "source": [
    "plt.bar(shares.index, shares, color=\"#ff9999\")\n",
    "plt.xticks(rotation=90)"
   ]
  },
  {
   "attachments": {},
   "cell_type": "markdown",
   "metadata": {},
   "source": [
    "Correlation Heatmap"
   ]
  },
  {
   "cell_type": "code",
   "execution_count": null,
   "metadata": {},
   "outputs": [],
   "source": [
    "plt.subplots(figsize=(12, 12))\n",
    "sns.heatmap(data1.corr(), annot=True, square=True)\n",
    "plt.show()"
   ]
  },
  {
   "attachments": {},
   "cell_type": "markdown",
   "metadata": {},
   "source": [
    "#### Data Preprocessing"
   ]
  },
  {
   "cell_type": "code",
   "execution_count": null,
   "metadata": {},
   "outputs": [],
   "source": [
    "data1.info()"
   ]
  },
  {
   "cell_type": "code",
   "execution_count": null,
   "metadata": {},
   "outputs": [],
   "source": [
    "data1.drop(['country','iso_code','date','source_name','source_website','day','year','week_of_year','day_of_year','day_of_week'],axis=1,inplace=True)"
   ]
  },
  {
   "cell_type": "code",
   "execution_count": null,
   "metadata": {},
   "outputs": [],
   "source": [
    "data1.info()"
   ]
  },
  {
   "attachments": {},
   "cell_type": "markdown",
   "metadata": {},
   "source": [
    "#### Encoding"
   ]
  },
  {
   "cell_type": "code",
   "execution_count": null,
   "metadata": {},
   "outputs": [],
   "source": [
    "data1 = pd.get_dummies(data1, columns=[\"vaccines\"])"
   ]
  },
  {
   "cell_type": "code",
   "execution_count": null,
   "metadata": {},
   "outputs": [],
   "source": [
    "data1.info()"
   ]
  },
  {
   "cell_type": "code",
   "execution_count": null,
   "metadata": {},
   "outputs": [],
   "source": [
    "data1.head()"
   ]
  },
  {
   "attachments": {},
   "cell_type": "markdown",
   "metadata": {},
   "source": [
    "#### Feature Scaling"
   ]
  },
  {
   "cell_type": "code",
   "execution_count": null,
   "metadata": {},
   "outputs": [],
   "source": [
    "from sklearn.preprocessing import StandardScaler\n",
    "\n",
    "columns = data1.columns\n",
    "scaler = StandardScaler()\n",
    "scaled_features = scaler.fit_transform(data1)\n",
    "data1 = pd.DataFrame(scaled_features, columns=columns)"
   ]
  },
  {
   "cell_type": "code",
   "execution_count": null,
   "metadata": {},
   "outputs": [],
   "source": [
    "data1.head()"
   ]
  },
  {
   "attachments": {},
   "cell_type": "markdown",
   "metadata": {},
   "source": [
    "#### Train and test"
   ]
  },
  {
   "cell_type": "code",
   "execution_count": null,
   "metadata": {},
   "outputs": [],
   "source": [
    "from sklearn.model_selection import train_test_split\n",
    "from sklearn import metrics\n",
    "from sklearn.metrics import mean_squared_error\n",
    "\n",
    "X_train, X_test, y_train, y_test = train_test_split(\n",
    "    data1.drop([\"total_vaccinations\"], axis=1),\n",
    "    data1[\"total_vaccinations\"],\n",
    "    test_size=0.2,\n",
    "    random_state=0,\n",
    ")"
   ]
  },
  {
   "attachments": {},
   "cell_type": "markdown",
   "metadata": {},
   "source": [
    "##### Multiple Regression"
   ]
  },
  {
   "cell_type": "code",
   "execution_count": null,
   "metadata": {},
   "outputs": [],
   "source": [
    "from sklearn.linear_model import LinearRegression\n",
    "\n",
    "model_mlr = LinearRegression()\n",
    "model_mlr.fit(X_train, y_train)\n",
    "\n",
    "y_pred_mlr = model_mlr.predict(X_test)"
   ]
  },
  {
   "cell_type": "code",
   "execution_count": null,
   "metadata": {},
   "outputs": [],
   "source": [
    "sns.histplot(y_test - y_pred_mlr)"
   ]
  },
  {
   "cell_type": "code",
   "execution_count": null,
   "metadata": {},
   "outputs": [],
   "source": [
    "map = sns.cubehelix_palette(as_cmap=True)\n",
    "f, ax = plt.subplots()\n",
    "points = ax.scatter(y_test, y_pred_mlr, c=y_test, cmap=map)\n",
    "f.colorbar(points)\n",
    "plt.show()"
   ]
  },
  {
   "cell_type": "code",
   "execution_count": null,
   "metadata": {},
   "outputs": [],
   "source": [
    "print(\"R2 Score:\", metrics.r2_score(y_test, y_pred_mlr))\n",
    "print(\"Mean Absolute Error:\", metrics.mean_absolute_error(y_test, y_pred_mlr))\n",
    "print(\"Mean Squared Error:\", metrics.mean_squared_error(y_test, y_pred_mlr))\n",
    "print(\"Root Mean Squared Error:\", np.sqrt(metrics.mean_squared_error(y_test, y_pred_mlr)))"
   ]
  },
  {
   "attachments": {},
   "cell_type": "markdown",
   "metadata": {},
   "source": [
    "##### RandomForest Regression"
   ]
  },
  {
   "cell_type": "code",
   "execution_count": null,
   "metadata": {},
   "outputs": [],
   "source": [
    "from sklearn.ensemble import RandomForestRegressor\n",
    "\n",
    "model_rf = RandomForestRegressor()\n",
    "model_rf.fit(X_train, y_train)\n",
    "y_pred_rf = model_rf.predict(X_test)"
   ]
  },
  {
   "cell_type": "code",
   "execution_count": null,
   "metadata": {},
   "outputs": [],
   "source": [
    "sns.histplot(y_test - y_pred_rf)"
   ]
  },
  {
   "cell_type": "code",
   "execution_count": null,
   "metadata": {},
   "outputs": [],
   "source": [
    "map = sns.cubehelix_palette(as_cmap=True)\n",
    "f, ax = plt.subplots()\n",
    "points = ax.scatter(y_test, y_pred_rf, c=y_test, cmap=map)\n",
    "f.colorbar(points)\n",
    "plt.show()"
   ]
  },
  {
   "cell_type": "code",
   "execution_count": null,
   "metadata": {},
   "outputs": [],
   "source": [
    "print(\"R2 Score:\", metrics.r2_score(y_test, y_pred_rf))\n",
    "print(\"Mean Absolute Error:\", metrics.mean_absolute_error(y_test, y_pred_rf))\n",
    "print(\"Mean Squared Error:\", metrics.mean_squared_error(y_test, y_pred_rf))\n",
    "print(\"Root Mean Squared Error:\", np.sqrt(metrics.mean_squared_error(y_test, y_pred_rf)))"
   ]
  },
  {
   "attachments": {},
   "cell_type": "markdown",
   "metadata": {},
   "source": [
    "##### KNN Regression"
   ]
  },
  {
   "cell_type": "code",
   "execution_count": null,
   "metadata": {},
   "outputs": [],
   "source": [
    "from sklearn.neighbors import KNeighborsRegressor\n",
    "\n",
    "model_knn = KNeighborsRegressor(n_neighbors=2)\n",
    "model_knn.fit(X_train, y_train)\n",
    "y_pred_knn = model_knn.predict(X_test)"
   ]
  },
  {
   "cell_type": "code",
   "execution_count": null,
   "metadata": {},
   "outputs": [],
   "source": [
    "sns.histplot(y_test - y_pred_knn)"
   ]
  },
  {
   "cell_type": "code",
   "execution_count": null,
   "metadata": {},
   "outputs": [],
   "source": [
    "map = sns.cubehelix_palette(as_cmap=True)\n",
    "f, ax = plt.subplots()\n",
    "points = ax.scatter(y_test, y_pred_knn, c=y_test, cmap=map)\n",
    "f.colorbar(points)\n",
    "plt.show()"
   ]
  },
  {
   "cell_type": "code",
   "execution_count": null,
   "metadata": {},
   "outputs": [],
   "source": [
    "print(\"R2 Score:\", metrics.r2_score(y_test, y_pred_knn))\n",
    "print(\"Mean Absolute Error:\", metrics.mean_absolute_error(y_test, y_pred_knn))\n",
    "print(\"Mean Squared Error:\", metrics.mean_squared_error(y_test, y_pred_knn))\n",
    "print(\"Root Mean Squared Error:\", np.sqrt(metrics.mean_squared_error(y_test, y_pred_knn)))"
   ]
  },
  {
   "attachments": {},
   "cell_type": "markdown",
   "metadata": {},
   "source": [
    "##### Decision Tree Regressor"
   ]
  },
  {
   "cell_type": "code",
   "execution_count": null,
   "metadata": {},
   "outputs": [],
   "source": [
    "from sklearn.tree import DecisionTreeRegressor\n",
    "\n",
    "model_tree = DecisionTreeRegressor()\n",
    "model_tree.fit(X_train, y_train)\n",
    "y_pred_dt = model_tree.predict(X_test)"
   ]
  },
  {
   "cell_type": "code",
   "execution_count": null,
   "metadata": {},
   "outputs": [],
   "source": [
    "sns.histplot(y_test - y_pred_dt)"
   ]
  },
  {
   "cell_type": "code",
   "execution_count": null,
   "metadata": {},
   "outputs": [],
   "source": [
    "map = sns.cubehelix_palette(as_cmap=True)\n",
    "f, ax = plt.subplots()\n",
    "points = ax.scatter(y_test, y_pred_dt, c=y_test, cmap=map)\n",
    "f.colorbar(points)\n",
    "plt.show()"
   ]
  },
  {
   "cell_type": "code",
   "execution_count": null,
   "metadata": {},
   "outputs": [],
   "source": [
    "print(\"R2 Score:\", metrics.r2_score(y_test, y_pred_dt))\n",
    "print(\"Mean Absolute Error:\", metrics.mean_absolute_error(y_test, y_pred_dt))\n",
    "print(\"Mean Squared Error:\", metrics.mean_squared_error(y_test, y_pred_dt))\n",
    "print(\"Root Mean Squared Error:\", np.sqrt(metrics.mean_squared_error(y_test, y_pred_dt)))"
   ]
  },
  {
   "attachments": {},
   "cell_type": "markdown",
   "metadata": {},
   "source": [
    "##### SVM Regression"
   ]
  },
  {
   "cell_type": "code",
   "execution_count": null,
   "metadata": {},
   "outputs": [],
   "source": [
    "from sklearn.svm import SVR\n",
    "\n",
    "model_svm = SVR(kernel=\"rbf\")\n",
    "model_svm.fit(X_train, y_train)\n",
    "y_pred_svm = model_svm.predict(X_test)"
   ]
  },
  {
   "cell_type": "code",
   "execution_count": null,
   "metadata": {},
   "outputs": [],
   "source": [
    "sns.histplot(y_test - y_pred_svm)"
   ]
  },
  {
   "cell_type": "code",
   "execution_count": null,
   "metadata": {},
   "outputs": [],
   "source": [
    "map = sns.cubehelix_palette(as_cmap=True)\n",
    "f, ax = plt.subplots()\n",
    "points = ax.scatter(y_test, y_pred_svm, c=y_test, cmap=map)\n",
    "f.colorbar(points)\n",
    "plt.show()"
   ]
  },
  {
   "cell_type": "code",
   "execution_count": null,
   "metadata": {},
   "outputs": [],
   "source": [
    "print(\"R2 Score:\", metrics.r2_score(y_test, y_pred_svm))\n",
    "print(\"Mean Absolute Error:\", metrics.mean_absolute_error(y_test, y_pred_svm))\n",
    "print(\"Mean Squared Error:\", metrics.mean_squared_error(y_test, y_pred_svm))\n",
    "print(\"Root Mean Squared Error:\", np.sqrt(metrics.mean_squared_error(y_test, y_pred_svm)))"
   ]
  }
 ],
 "metadata": {
  "kernelspec": {
   "display_name": "Python 3",
   "language": "python",
   "name": "python3"
  },
  "language_info": {
   "codemirror_mode": {
    "name": "ipython",
    "version": 3
   },
   "file_extension": ".py",
   "mimetype": "text/x-python",
   "name": "python",
   "nbconvert_exporter": "python",
   "pygments_lexer": "ipython3",
   "version": "3.10.7"
  },
  "orig_nbformat": 4,
  "vscode": {
   "interpreter": {
    "hash": "369f2c481f4da34e4445cda3fffd2e751bd1c4d706f27375911949ba6bb62e1c"
   }
  }
 },
 "nbformat": 4,
 "nbformat_minor": 2
}
